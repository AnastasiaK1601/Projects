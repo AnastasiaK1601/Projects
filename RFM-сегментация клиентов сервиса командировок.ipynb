{
 "cells": [
  {
   "cell_type": "code",
   "execution_count": 1,
   "id": "c070097d-3399-494d-824d-7f1def4b1d74",
   "metadata": {
    "editable": true,
    "slideshow": {
     "slide_type": ""
    },
    "tags": []
   },
   "outputs": [],
   "source": [
    "from datetime import datetime\n",
    "from dateutil.relativedelta import relativedelta\n",
    "import pandas as pd\n",
    "import numpy as np\n",
    "import seaborn as sns\n",
    "sns.set()\n",
    "from matplotlib import pyplot as plt\n",
    "from datetime import datetime\n",
    "import statsmodels.api as sm\n",
    "from scipy.stats import shapiro\n",
    "pd.options.display.float_format = '{:,.2f}'.format\n",
    "pd.set_option('display.max_colwidth', None)\n",
    "import itertools"
   ]
  },
  {
   "cell_type": "code",
   "execution_count": 2,
   "id": "a16b55fe-71d6-476b-80e6-57a53f6acb2f",
   "metadata": {},
   "outputs": [],
   "source": [
    "#Подключимся к БД\n",
    "\n",
    "from vertica_python import connect\n",
    "connection = connect(\n",
    "    host='dwh.twiket.com',\n",
    "    port=5433,\n",
    "    user='akobtseva',\n",
    "    password='Lg7@01R#S!3D4z'\n",
    "    )"
   ]
  },
  {
   "cell_type": "markdown",
   "id": "64659590-2dcb-41c7-91f7-965d45b3341a",
   "metadata": {},
   "source": [
    "## 1. Сезонность "
   ]
  },
  {
   "cell_type": "code",
   "execution_count": 3,
   "id": "6bce7875-9640-47f2-af3b-c8f8fd307742",
   "metadata": {},
   "outputs": [
    {
     "name": "stderr",
     "output_type": "stream",
     "text": [
      "/tmp/ipykernel_223688/817137290.py:49: UserWarning: pandas only supports SQLAlchemy connectable (engine/connection) or database string URI or sqlite3 DBAPI2 connection. Other DBAPI2 objects are not tested. Please consider using SQLAlchemy.\n",
      "  df = pd.read_sql(seasons, connection)\n"
     ]
    }
   ],
   "source": [
    "seasons = f\"\"\"\n",
    "with activity_info as\n",
    "(select o.inn, legalName, first_orderdate, vid, o.bid, o.email,\n",
    "count(distinct(orderid)) as orders, sum(gmv) as gmv, sum(revenue) as revenue, date_trunc('quarter', orderdatecreated::date) as quarter,\n",
    "date_trunc('year', orderdatecreated::date) as year,\n",
    "TO_CHAR(date_trunc('quarter', orderdatecreated::date), 'MM') as quarter_num,\n",
    "case when orderdatecreated::date >= sysdate()::date - 365\n",
    "then 'заказ меньше года назад'\n",
    "else 'заказ больше года назад'\n",
    "end as year_order,\n",
    "date_trunc('quarter', first_orderdate::date) as quarter_first,\n",
    "max_date - first_orderdate::date as life_time,\n",
    "sysdate()::date - max_date as recency,\n",
    "case when sysdate()::date - first_orderdate::date < 365\n",
    "then 'меньше года'\n",
    "when sysdate()::date - first_orderdate::date >= 365 and sysdate()::date - first_orderdate::date <= 730\n",
    "then '1-2 года'\n",
    "else 'больше 2 лет'\n",
    "end as type,\n",
    "case when cnt >= 5\n",
    "then 'покупал хотя бы 5 кварталов'\n",
    "else 'покупал реже'\n",
    "end as frequency,\n",
    "first_orderdate::date as min_date\n",
    "from cdm.vg_b2b_contracts_orders_v o\n",
    "left join bi.dim_buyer b on o.bid = b.buyerId\n",
    "join (select max(orderdatecreated::date) as max_date, inn from cdm.vg_b2b_contracts_orders_v\n",
    "           where orderdatecreated >= sysdate()::date - 365 and status = 'Issued' group by inn) o2\n",
    "on o.inn = o2.inn\n",
    "join (select count(distinct(date_trunc('quarter', orderdatecreated::date))) as cnt, inn from cdm.vg_b2b_contracts_orders_v\n",
    "           where orderdatecreated >= sysdate()::date - 1095 and status = 'Issued' group by inn) o3\n",
    "on o.inn = o3.inn\n",
    "where orderdatecreated >= sysdate()::date - 1095 and status = 'Issued' and is_test = False\n",
    "group by o.inn, legalName, o.email, first_orderdate::date, vid, o.bid, date_trunc('quarter', orderdatecreated::date), max_date, type, frequency, quarter_first, TO_CHAR(date_trunc('quarter', orderdatecreated::date), 'MM'), year_order, date_trunc('year', orderdatecreated::date)\n",
    "order by o.inn, date_trunc('quarter', orderdatecreated::date)\n",
    "),\n",
    "t2 as\n",
    "(select\n",
    "    distinct *,\n",
    "    orders/(median(orders) over (partition by bid, year)) as orders_rate\n",
    "from activity_info)\n",
    "select\n",
    "    distinct *,\n",
    "    median(orders_rate) over (partition by bid, quarter_num) as seasonal_index,\n",
    "    min(orders_rate) over (partition by bid, quarter_num) as min_rate,\n",
    "    max(orders_rate) over (partition by bid, quarter_num) as max_rate\n",
    "from t2\n",
    "\"\"\"\n",
    "df = pd.read_sql(seasons, connection)"
   ]
  },
  {
   "cell_type": "code",
   "execution_count": 4,
   "id": "7733e90b-5623-4ba9-8f55-452ca5b02082",
   "metadata": {},
   "outputs": [],
   "source": [
    "new_clients = df[df['type'] == 'меньше года']\n",
    "old_freq_clients = df[(df['type'] == 'больше 2 лет') & (df['frequency'] == 'покупал хотя бы 5 кварталов')]"
   ]
  },
  {
   "cell_type": "code",
   "execution_count": 5,
   "id": "511d9fa6-0578-4ba8-87c2-b06589521f58",
   "metadata": {},
   "outputs": [],
   "source": [
    "other_clients_0 = df[~df['inn'].isin(old_freq_clients['inn'])]\n",
    "other_clients = other_clients_0[~other_clients_0['inn'].isin(new_clients['inn'])]"
   ]
  },
  {
   "cell_type": "code",
   "execution_count": 6,
   "id": "ea185e24-4253-458b-88f7-d95be6b5f363",
   "metadata": {},
   "outputs": [],
   "source": [
    "#Индексы сезонности \n",
    "\n",
    "old_freq_clients_i = old_freq_clients[['seasonal_index', 'inn']].drop_duplicates().groupby('inn')['seasonal_index'].agg(['min', 'max', 'std', 'mean', 'median']).reset_index()\n",
    "old_freq_clients_i['Var'] = old_freq_clients_i['mean']/old_freq_clients_i['std']\n",
    "season_1 = old_freq_clients_i[(old_freq_clients_i['min'] < 0.8) & (old_freq_clients_i['max'] > 1.2) & (old_freq_clients_i['median'] > 0.8)]\n",
    "old_freq_clients_i2 = old_freq_clients[(old_freq_clients['min_rate'] < 0.8) & (old_freq_clients['max_rate'] > 1.2)]\n",
    "season = season_1[~season_1['inn'].isin(old_freq_clients_i2['inn'])]"
   ]
  },
  {
   "cell_type": "code",
   "execution_count": 7,
   "id": "b07d82f4-36e3-43e0-b4b0-470382c154e6",
   "metadata": {},
   "outputs": [
    {
     "name": "stderr",
     "output_type": "stream",
     "text": [
      "/tmp/ipykernel_223688/501591966.py:3: SettingWithCopyWarning: \n",
      "A value is trying to be set on a copy of a slice from a DataFrame.\n",
      "Try using .loc[row_indexer,col_indexer] = value instead\n",
      "\n",
      "See the caveats in the documentation: https://pandas.pydata.org/pandas-docs/stable/user_guide/indexing.html#returning-a-view-versus-a-copy\n",
      "  season_clients['seasonality'] = 'Да'\n",
      "/tmp/ipykernel_223688/501591966.py:4: SettingWithCopyWarning: \n",
      "A value is trying to be set on a copy of a slice from a DataFrame.\n",
      "Try using .loc[row_indexer,col_indexer] = value instead\n",
      "\n",
      "See the caveats in the documentation: https://pandas.pydata.org/pandas-docs/stable/user_guide/indexing.html#returning-a-view-versus-a-copy\n",
      "  no_season_clients['seasonality'] = 'Нет'\n",
      "/tmp/ipykernel_223688/501591966.py:5: SettingWithCopyWarning: \n",
      "A value is trying to be set on a copy of a slice from a DataFrame.\n",
      "Try using .loc[row_indexer,col_indexer] = value instead\n",
      "\n",
      "See the caveats in the documentation: https://pandas.pydata.org/pandas-docs/stable/user_guide/indexing.html#returning-a-view-versus-a-copy\n",
      "  other_clients['seasonality'] = 'Пока нельзя объективно определить'\n",
      "/tmp/ipykernel_223688/501591966.py:6: SettingWithCopyWarning: \n",
      "A value is trying to be set on a copy of a slice from a DataFrame.\n",
      "Try using .loc[row_indexer,col_indexer] = value instead\n",
      "\n",
      "See the caveats in the documentation: https://pandas.pydata.org/pandas-docs/stable/user_guide/indexing.html#returning-a-view-versus-a-copy\n",
      "  new_clients['seasonality'] = 'Пока нельзя объективно определить'\n"
     ]
    }
   ],
   "source": [
    "season_clients = old_freq_clients[old_freq_clients['inn'].isin(season['inn'])]\n",
    "no_season_clients = old_freq_clients[~old_freq_clients['inn'].isin(season['inn'])]\n",
    "season_clients['seasonality'] = 'Да'\n",
    "no_season_clients['seasonality'] = 'Нет'\n",
    "other_clients['seasonality'] = 'Пока нельзя объективно определить'\n",
    "new_clients['seasonality'] = 'Пока нельзя объективно определить'\n",
    "no_season_other_clients = pd.concat([no_season_clients, other_clients], axis=0)"
   ]
  },
  {
   "cell_type": "markdown",
   "id": "78fee422-b02f-49a0-a334-3dd525ae504e",
   "metadata": {},
   "source": [
    "## 2. RFM-анализ несезонной группы "
   ]
  },
  {
   "cell_type": "code",
   "execution_count": 8,
   "id": "eb668935-1b64-4c6c-a738-ca38aa174ff3",
   "metadata": {},
   "outputs": [
    {
     "name": "stderr",
     "output_type": "stream",
     "text": [
      "/tmp/ipykernel_223688/4271542842.py:3: FutureWarning: Indexing with multiple keys (implicitly converted to a tuple of keys) will be deprecated, use a list instead.\n",
      "  group_no_season_pivot = no_season_other_clients[no_season_other_clients['year_order'] == 'заказ меньше года назад'].groupby(['inn', 'legalName', 'bid', 'first_orderdate', 'life_time', 'email', 'vid', 'recency', 'seasonality', 'type'])['orders', 'gmv', 'revenue'].agg('sum').reset_index()\n"
     ]
    },
    {
     "data": {
      "image/png": "[encoded data removed]",
      "text/plain": [
       "<Figure size 640x480 with 1 Axes>"
      ]
     },
     "metadata": {},
     "output_type": "display_data"
    }
   ],
   "source": [
    "#Распределение признаков\n",
    "\n",
    "group_no_season_pivot = no_season_other_clients[no_season_other_clients['year_order'] == 'заказ меньше года назад'].groupby(['inn', 'legalName', 'bid', 'first_orderdate', 'life_time', 'email', 'vid', 'recency', 'seasonality', 'type'])['orders', 'gmv', 'revenue'].agg('sum').reset_index()\n",
    "group_no_season_pivot['gmv_per_order'] = group_no_season_pivot['gmv']/group_no_season_pivot['orders']\n",
    "\n",
    "\n",
    "# Вычисляем квартили данных\n",
    "group_no_season_q1_g = np.percentile(group_no_season_pivot['gmv_per_order'], 50)\n",
    "group_no_season_q2_g = np.percentile(group_no_season_pivot['gmv_per_order'], 80)  \n",
    "\n",
    "# Строим гистограмму\n",
    "plt.hist(group_no_season_pivot['gmv_per_order'][group_no_season_pivot['gmv_per_order'] < 70000], bins=30, color='skyblue', edgecolor='black')\n",
    "\n",
    "# Добавляем отметки для квартилей\n",
    "plt.axvline(group_no_season_q1_g, color='red', linestyle='--', label='Q1')\n",
    "plt.axvline(group_no_season_q2_g, color='green', linestyle='--', label='Q2')\n",
    "\n",
    "plt.legend()\n",
    "plt.title('Гистограмма данных с отметками для квартилей')\n",
    "plt.xlabel('Значение')\n",
    "plt.ylabel('Частота')\n",
    "\n",
    "plt.show()"
   ]
  },
  {
   "cell_type": "code",
   "execution_count": 9,
   "id": "0455360f-63a4-4436-8ee6-34e29e38751c",
   "metadata": {},
   "outputs": [
    {
     "data": {
      "image/png": "[encoded data removed]",
      "text/plain": [
       "<Figure size 640x480 with 1 Axes>"
      ]
     },
     "metadata": {},
     "output_type": "display_data"
    }
   ],
   "source": [
    "# Вычисляем квартили данных\n",
    "group_no_season_q1_o = np.percentile(group_no_season_pivot['orders'], 50)\n",
    "group_no_season_q2_o = np.percentile(group_no_season_pivot['orders'], 80)  \n",
    "\n",
    "# Строим гистограмму\n",
    "plt.hist(group_no_season_pivot['orders'][group_no_season_pivot['orders'] < 200], bins=30, color='skyblue', edgecolor='black')\n",
    "\n",
    "# Добавляем отметки для квартилей\n",
    "plt.axvline(group_no_season_q1_o, color='red', linestyle='--', label='Q1')\n",
    "plt.axvline(group_no_season_q2_o, color='green', linestyle='--', label='Q2')\n",
    "\n",
    "plt.legend()\n",
    "plt.title('Гистограмма данных с отметками для квартилей')\n",
    "plt.xlabel('Значение')\n",
    "plt.ylabel('Частота')\n",
    "\n",
    "plt.show()"
   ]
  },
  {
   "cell_type": "code",
   "execution_count": 10,
   "id": "c35c3bb4-e7e0-4b33-965e-5af9574b95d8",
   "metadata": {},
   "outputs": [
    {
     "data": {
      "image/png": "[encoded data removed]",
      "text/plain": [
       "<Figure size 640x480 with 1 Axes>"
      ]
     },
     "metadata": {},
     "output_type": "display_data"
    }
   ],
   "source": [
    "# Вычисляем квартили данных\n",
    "group_no_season_q1_r = np.percentile(group_no_season_pivot['recency'], 20)  \n",
    "group_no_season_q2_r = np.percentile(group_no_season_pivot['recency'], 50)\n",
    "\n",
    "# Строим гистограмму\n",
    "plt.hist(group_no_season_pivot['recency'][group_no_season_pivot['recency'] < 90], bins=30, color='skyblue', edgecolor='black')\n",
    "\n",
    "# Добавляем отметки для квартилей\n",
    "plt.axvline(group_no_season_q1_r, color='red', linestyle='--', label='Q1')\n",
    "plt.axvline(group_no_season_q2_r, color='green', linestyle='--', label='Q2')\n",
    "\n",
    "plt.legend()\n",
    "plt.title('Гистограмма данных с отметками для квартилей')\n",
    "plt.xlabel('Значение')\n",
    "plt.ylabel('Частота')\n",
    "\n",
    "plt.show()"
   ]
  },
  {
   "cell_type": "code",
   "execution_count": 11,
   "id": "be89965f-5570-4679-9c8f-9e648a30b6ae",
   "metadata": {},
   "outputs": [],
   "source": [
    "def recency_category(row):\n",
    "    if row['recency'] <= group_no_season_q1_r:\n",
    "        return 1\n",
    "    if row['recency'] > group_no_season_q1_r and row['recency'] <= group_no_season_q2_r:\n",
    "        return 2\n",
    "    return 3\n",
    "\n",
    "group_no_season_pivot['recency_group'] = group_no_season_pivot.apply(recency_category, axis=1)"
   ]
  },
  {
   "cell_type": "code",
   "execution_count": 12,
   "id": "13a31476-48b3-4e01-9135-33cce2e1e282",
   "metadata": {},
   "outputs": [],
   "source": [
    "def orders_category(row):\n",
    "    if row['orders'] <= group_no_season_q1_o:\n",
    "        return 3\n",
    "    if row['orders'] <= group_no_season_q2_o and row['orders'] > group_no_season_q1_o:\n",
    "        return 2\n",
    "    return 1\n",
    "\n",
    "group_no_season_pivot['orders_group'] = group_no_season_pivot.apply(orders_category, axis=1)"
   ]
  },
  {
   "cell_type": "code",
   "execution_count": 13,
   "id": "c7283eb2-32ec-4b78-ad8c-e8a46828e175",
   "metadata": {},
   "outputs": [],
   "source": [
    "def gmv_category(row):\n",
    "    if row['gmv_per_order'] > group_no_season_q2_g:\n",
    "        return 1\n",
    "    if row['gmv_per_order'] <= group_no_season_q2_g and row['gmv_per_order'] > group_no_season_q1_g:\n",
    "        return 2\n",
    "    return 3\n",
    "\n",
    "group_no_season_pivot['gmv_group'] = group_no_season_pivot.apply(gmv_category, axis=1)"
   ]
  },
  {
   "cell_type": "code",
   "execution_count": 14,
   "id": "306a9311-a9f7-41dc-9505-6f74620a4645",
   "metadata": {},
   "outputs": [],
   "source": [
    "#Группа признаков \n",
    "\n",
    "group_no_season_pivot['RFM_group'] = group_no_season_pivot['recency_group'].astype(str) + group_no_season_pivot['orders_group'].astype(str) + group_no_season_pivot['gmv_group'].astype(str)"
   ]
  },
  {
   "cell_type": "code",
   "execution_count": 15,
   "id": "158b3fea-5c30-4170-9729-d24c07ba4644",
   "metadata": {},
   "outputs": [
    {
     "name": "stdout",
     "output_type": "stream",
     "text": [
      "5.0 35.0\n"
     ]
    }
   ],
   "source": [
    "#Границы для recency\n",
    "\n",
    "print(group_no_season_q1_r, group_no_season_q2_r)"
   ]
  },
  {
   "cell_type": "code",
   "execution_count": 16,
   "id": "9c68aca5-1e3e-4274-8255-e67c151803f1",
   "metadata": {},
   "outputs": [
    {
     "name": "stdout",
     "output_type": "stream",
     "text": [
      "15313.032244897959 30672.967445783157\n"
     ]
    }
   ],
   "source": [
    "#Границы для gmv\n",
    "\n",
    "print(group_no_season_q1_g, group_no_season_q2_g)"
   ]
  },
  {
   "cell_type": "code",
   "execution_count": 17,
   "id": "af83acb4-34c6-40c4-bf01-10a06e563fec",
   "metadata": {},
   "outputs": [
    {
     "name": "stdout",
     "output_type": "stream",
     "text": [
      "18.0 76.0\n"
     ]
    }
   ],
   "source": [
    "#Границы для orders\n",
    "\n",
    "print(group_no_season_q1_o, group_no_season_q2_o)"
   ]
  },
  {
   "cell_type": "code",
   "execution_count": 18,
   "id": "8addc08c-ab59-41f2-9d1a-75113db20968",
   "metadata": {},
   "outputs": [
    {
     "data": {
      "text/html": [
       "<div>\n",
       "<style scoped>\n",
       "    .dataframe tbody tr th:only-of-type {\n",
       "        vertical-align: middle;\n",
       "    }\n",
       "\n",
       "    .dataframe tbody tr th {\n",
       "        vertical-align: top;\n",
       "    }\n",
       "\n",
       "    .dataframe thead th {\n",
       "        text-align: right;\n",
       "    }\n",
       "</style>\n",
       "<table border=\"1\" class=\"dataframe\">\n",
       "  <thead>\n",
       "    <tr style=\"text-align: right;\">\n",
       "      <th></th>\n",
       "      <th>RFM_group</th>\n",
       "      <th>inn</th>\n",
       "      <th>share</th>\n",
       "    </tr>\n",
       "  </thead>\n",
       "  <tbody>\n",
       "    <tr>\n",
       "      <th>26</th>\n",
       "      <td>333</td>\n",
       "      <td>523</td>\n",
       "      <td>0.19</td>\n",
       "    </tr>\n",
       "    <tr>\n",
       "      <th>25</th>\n",
       "      <td>332</td>\n",
       "      <td>276</td>\n",
       "      <td>0.10</td>\n",
       "    </tr>\n",
       "    <tr>\n",
       "      <th>24</th>\n",
       "      <td>331</td>\n",
       "      <td>242</td>\n",
       "      <td>0.09</td>\n",
       "    </tr>\n",
       "    <tr>\n",
       "      <th>14</th>\n",
       "      <td>223</td>\n",
       "      <td>185</td>\n",
       "      <td>0.07</td>\n",
       "    </tr>\n",
       "    <tr>\n",
       "      <th>2</th>\n",
       "      <td>113</td>\n",
       "      <td>159</td>\n",
       "      <td>0.06</td>\n",
       "    </tr>\n",
       "    <tr>\n",
       "      <th>23</th>\n",
       "      <td>323</td>\n",
       "      <td>137</td>\n",
       "      <td>0.05</td>\n",
       "    </tr>\n",
       "    <tr>\n",
       "      <th>1</th>\n",
       "      <td>112</td>\n",
       "      <td>124</td>\n",
       "      <td>0.05</td>\n",
       "    </tr>\n",
       "    <tr>\n",
       "      <th>13</th>\n",
       "      <td>222</td>\n",
       "      <td>117</td>\n",
       "      <td>0.04</td>\n",
       "    </tr>\n",
       "    <tr>\n",
       "      <th>17</th>\n",
       "      <td>233</td>\n",
       "      <td>110</td>\n",
       "      <td>0.04</td>\n",
       "    </tr>\n",
       "    <tr>\n",
       "      <th>5</th>\n",
       "      <td>123</td>\n",
       "      <td>97</td>\n",
       "      <td>0.04</td>\n",
       "    </tr>\n",
       "    <tr>\n",
       "      <th>16</th>\n",
       "      <td>232</td>\n",
       "      <td>86</td>\n",
       "      <td>0.03</td>\n",
       "    </tr>\n",
       "    <tr>\n",
       "      <th>11</th>\n",
       "      <td>213</td>\n",
       "      <td>85</td>\n",
       "      <td>0.03</td>\n",
       "    </tr>\n",
       "    <tr>\n",
       "      <th>22</th>\n",
       "      <td>322</td>\n",
       "      <td>73</td>\n",
       "      <td>0.03</td>\n",
       "    </tr>\n",
       "    <tr>\n",
       "      <th>15</th>\n",
       "      <td>231</td>\n",
       "      <td>71</td>\n",
       "      <td>0.03</td>\n",
       "    </tr>\n",
       "    <tr>\n",
       "      <th>12</th>\n",
       "      <td>221</td>\n",
       "      <td>58</td>\n",
       "      <td>0.02</td>\n",
       "    </tr>\n",
       "    <tr>\n",
       "      <th>4</th>\n",
       "      <td>122</td>\n",
       "      <td>54</td>\n",
       "      <td>0.02</td>\n",
       "    </tr>\n",
       "    <tr>\n",
       "      <th>10</th>\n",
       "      <td>212</td>\n",
       "      <td>49</td>\n",
       "      <td>0.02</td>\n",
       "    </tr>\n",
       "    <tr>\n",
       "      <th>21</th>\n",
       "      <td>321</td>\n",
       "      <td>47</td>\n",
       "      <td>0.02</td>\n",
       "    </tr>\n",
       "    <tr>\n",
       "      <th>3</th>\n",
       "      <td>121</td>\n",
       "      <td>35</td>\n",
       "      <td>0.01</td>\n",
       "    </tr>\n",
       "    <tr>\n",
       "      <th>0</th>\n",
       "      <td>111</td>\n",
       "      <td>35</td>\n",
       "      <td>0.01</td>\n",
       "    </tr>\n",
       "    <tr>\n",
       "      <th>20</th>\n",
       "      <td>313</td>\n",
       "      <td>32</td>\n",
       "      <td>0.01</td>\n",
       "    </tr>\n",
       "    <tr>\n",
       "      <th>9</th>\n",
       "      <td>211</td>\n",
       "      <td>30</td>\n",
       "      <td>0.01</td>\n",
       "    </tr>\n",
       "    <tr>\n",
       "      <th>8</th>\n",
       "      <td>133</td>\n",
       "      <td>20</td>\n",
       "      <td>0.01</td>\n",
       "    </tr>\n",
       "    <tr>\n",
       "      <th>6</th>\n",
       "      <td>131</td>\n",
       "      <td>19</td>\n",
       "      <td>0.01</td>\n",
       "    </tr>\n",
       "    <tr>\n",
       "      <th>7</th>\n",
       "      <td>132</td>\n",
       "      <td>15</td>\n",
       "      <td>0.01</td>\n",
       "    </tr>\n",
       "    <tr>\n",
       "      <th>19</th>\n",
       "      <td>312</td>\n",
       "      <td>14</td>\n",
       "      <td>0.01</td>\n",
       "    </tr>\n",
       "    <tr>\n",
       "      <th>18</th>\n",
       "      <td>311</td>\n",
       "      <td>2</td>\n",
       "      <td>0.00</td>\n",
       "    </tr>\n",
       "  </tbody>\n",
       "</table>\n",
       "</div>"
      ],
      "text/plain": [
       "   RFM_group  inn  share\n",
       "26       333  523   0.19\n",
       "25       332  276   0.10\n",
       "24       331  242   0.09\n",
       "14       223  185   0.07\n",
       "2        113  159   0.06\n",
       "23       323  137   0.05\n",
       "1        112  124   0.05\n",
       "13       222  117   0.04\n",
       "17       233  110   0.04\n",
       "5        123   97   0.04\n",
       "16       232   86   0.03\n",
       "11       213   85   0.03\n",
       "22       322   73   0.03\n",
       "15       231   71   0.03\n",
       "12       221   58   0.02\n",
       "4        122   54   0.02\n",
       "10       212   49   0.02\n",
       "21       321   47   0.02\n",
       "3        121   35   0.01\n",
       "0        111   35   0.01\n",
       "20       313   32   0.01\n",
       "9        211   30   0.01\n",
       "8        133   20   0.01\n",
       "6        131   19   0.01\n",
       "7        132   15   0.01\n",
       "19       312   14   0.01\n",
       "18       311    2   0.00"
      ]
     },
     "execution_count": 18,
     "metadata": {},
     "output_type": "execute_result"
    }
   ],
   "source": [
    "#Распределение категорий \n",
    "\n",
    "group_categories_pivot = group_no_season_pivot.groupby('RFM_group')['inn'].agg('nunique').reset_index()\n",
    "group_categories_pivot['share'] = group_categories_pivot['inn']/group_no_season_pivot['inn'].nunique()\n",
    "group_categories_pivot.sort_values(by='inn', ascending=False)"
   ]
  },
  {
   "cell_type": "markdown",
   "id": "4cf5d0bb-96b4-4837-97ad-c7f37d2ee958",
   "metadata": {},
   "source": [
    "## 3. RFM-анализ сезонной группы "
   ]
  },
  {
   "cell_type": "code",
   "execution_count": 19,
   "id": "157b86bc-b824-46cf-b0c5-e7427af1c83e",
   "metadata": {},
   "outputs": [
    {
     "name": "stderr",
     "output_type": "stream",
     "text": [
      "/tmp/ipykernel_223688/2192454895.py:3: FutureWarning: Indexing with multiple keys (implicitly converted to a tuple of keys) will be deprecated, use a list instead.\n",
      "  group_season_pivot = season_clients[season_clients['year_order'] == 'заказ меньше года назад'].groupby(['inn', 'legalName', 'bid', 'first_orderdate', 'life_time', 'email', 'vid', 'recency', 'seasonality', 'type'])['orders', 'gmv', 'revenue'].agg('sum').reset_index()\n"
     ]
    },
    {
     "data": {
      "text/html": [
       "<div>\n",
       "<style scoped>\n",
       "    .dataframe tbody tr th:only-of-type {\n",
       "        vertical-align: middle;\n",
       "    }\n",
       "\n",
       "    .dataframe tbody tr th {\n",
       "        vertical-align: top;\n",
       "    }\n",
       "\n",
       "    .dataframe thead th {\n",
       "        text-align: right;\n",
       "    }\n",
       "</style>\n",
       "<table border=\"1\" class=\"dataframe\">\n",
       "  <thead>\n",
       "    <tr style=\"text-align: right;\">\n",
       "      <th></th>\n",
       "      <th>inn</th>\n",
       "      <th>legalName</th>\n",
       "      <th>bid</th>\n",
       "      <th>first_orderdate</th>\n",
       "      <th>life_time</th>\n",
       "      <th>email</th>\n",
       "      <th>vid</th>\n",
       "      <th>recency</th>\n",
       "      <th>seasonality</th>\n",
       "      <th>type</th>\n",
       "      <th>orders</th>\n",
       "      <th>gmv</th>\n",
       "      <th>revenue</th>\n",
       "      <th>gmv_per_order</th>\n",
       "    </tr>\n",
       "  </thead>\n",
       "  <tbody>\n",
       "    <tr>\n",
       "      <th>0</th>\n",
       "      <td>0224954035</td>\n",
       "      <td>ООО \"ГРЭСО\"</td>\n",
       "      <td>6605b0b1-b467-489f-8807-fa1cb192aa74</td>\n",
       "      <td>2021-06-09</td>\n",
       "      <td>1,093.00</td>\n",
       "      <td>marirmih@mail.ru</td>\n",
       "      <td>db20585e-c58f-4ef0-8b0f-172448549ebf</td>\n",
       "      <td>40</td>\n",
       "      <td>Да</td>\n",
       "      <td>больше 2 лет</td>\n",
       "      <td>11</td>\n",
       "      <td>98,095.84</td>\n",
       "      <td>6,022.62</td>\n",
       "      <td>8,917.80</td>\n",
       "    </tr>\n",
       "    <tr>\n",
       "      <th>1</th>\n",
       "      <td>0267021065</td>\n",
       "      <td>ООО \"МОНОЛИТ\"</td>\n",
       "      <td>13224534-9e17-41ed-9ac9-0466ed1b8f6f</td>\n",
       "      <td>2019-04-02</td>\n",
       "      <td>1,919.00</td>\n",
       "      <td>monolit.sybay@yandex.ru</td>\n",
       "      <td>eb792bde-126d-49fe-8e48-fe51f5dc7005</td>\n",
       "      <td>13</td>\n",
       "      <td>Да</td>\n",
       "      <td>больше 2 лет</td>\n",
       "      <td>7</td>\n",
       "      <td>78,057.88</td>\n",
       "      <td>4,220.98</td>\n",
       "      <td>11,151.13</td>\n",
       "    </tr>\n",
       "    <tr>\n",
       "      <th>2</th>\n",
       "      <td>0278175204</td>\n",
       "      <td>ООО \"ЭЛЕКТРОСИТИ\"</td>\n",
       "      <td>5e3ad632-1999-4895-9017-2e25933065d1</td>\n",
       "      <td>2019-09-02</td>\n",
       "      <td>1,768.00</td>\n",
       "      <td>denis_ivanov@mail.ru</td>\n",
       "      <td>5eea0e34-4e2b-4102-a3ee-ba14d1d69bbe</td>\n",
       "      <td>11</td>\n",
       "      <td>Да</td>\n",
       "      <td>больше 2 лет</td>\n",
       "      <td>31</td>\n",
       "      <td>159,778.36</td>\n",
       "      <td>13,955.67</td>\n",
       "      <td>5,154.14</td>\n",
       "    </tr>\n",
       "    <tr>\n",
       "      <th>3</th>\n",
       "      <td>0326472640</td>\n",
       "      <td>ООО\"БИЗНЕСМЕХАНИКА\"</td>\n",
       "      <td>f3373b0d-8431-4468-9562-5ee7cb41feaa</td>\n",
       "      <td>2020-03-17</td>\n",
       "      <td>1,345.00</td>\n",
       "      <td>info@cto-bm.ru</td>\n",
       "      <td>9b24e785-7b02-4622-b4ae-8d13542cfd0c</td>\n",
       "      <td>237</td>\n",
       "      <td>Да</td>\n",
       "      <td>больше 2 лет</td>\n",
       "      <td>9</td>\n",
       "      <td>13,890.40</td>\n",
       "      <td>619.15</td>\n",
       "      <td>1,543.38</td>\n",
       "    </tr>\n",
       "    <tr>\n",
       "      <th>4</th>\n",
       "      <td>1102072630</td>\n",
       "      <td>ООО \"СЛК\"</td>\n",
       "      <td>a7955899-bb42-4961-acdf-3d1e8e31f653</td>\n",
       "      <td>2021-07-20</td>\n",
       "      <td>1,091.00</td>\n",
       "      <td>slkmsk2018@gmail.com</td>\n",
       "      <td>188cadad-d2f9-4c39-a1cb-0bff9c74ec43</td>\n",
       "      <td>1</td>\n",
       "      <td>Да</td>\n",
       "      <td>больше 2 лет</td>\n",
       "      <td>421</td>\n",
       "      <td>8,511,469.83</td>\n",
       "      <td>245,419.22</td>\n",
       "      <td>20,217.27</td>\n",
       "    </tr>\n",
       "  </tbody>\n",
       "</table>\n",
       "</div>"
      ],
      "text/plain": [
       "          inn            legalName                                   bid  \\\n",
       "0  0224954035          ООО \"ГРЭСО\"  6605b0b1-b467-489f-8807-fa1cb192aa74   \n",
       "1  0267021065        ООО \"МОНОЛИТ\"  13224534-9e17-41ed-9ac9-0466ed1b8f6f   \n",
       "2  0278175204    ООО \"ЭЛЕКТРОСИТИ\"  5e3ad632-1999-4895-9017-2e25933065d1   \n",
       "3  0326472640  ООО\"БИЗНЕСМЕХАНИКА\"  f3373b0d-8431-4468-9562-5ee7cb41feaa   \n",
       "4  1102072630            ООО \"СЛК\"  a7955899-bb42-4961-acdf-3d1e8e31f653   \n",
       "\n",
       "  first_orderdate  life_time                    email  \\\n",
       "0      2021-06-09   1,093.00         marirmih@mail.ru   \n",
       "1      2019-04-02   1,919.00  monolit.sybay@yandex.ru   \n",
       "2      2019-09-02   1,768.00     denis_ivanov@mail.ru   \n",
       "3      2020-03-17   1,345.00           info@cto-bm.ru   \n",
       "4      2021-07-20   1,091.00     slkmsk2018@gmail.com   \n",
       "\n",
       "                                    vid  recency seasonality          type  \\\n",
       "0  db20585e-c58f-4ef0-8b0f-172448549ebf       40          Да  больше 2 лет   \n",
       "1  eb792bde-126d-49fe-8e48-fe51f5dc7005       13          Да  больше 2 лет   \n",
       "2  5eea0e34-4e2b-4102-a3ee-ba14d1d69bbe       11          Да  больше 2 лет   \n",
       "3  9b24e785-7b02-4622-b4ae-8d13542cfd0c      237          Да  больше 2 лет   \n",
       "4  188cadad-d2f9-4c39-a1cb-0bff9c74ec43        1          Да  больше 2 лет   \n",
       "\n",
       "   orders          gmv    revenue  gmv_per_order  \n",
       "0      11    98,095.84   6,022.62       8,917.80  \n",
       "1       7    78,057.88   4,220.98      11,151.13  \n",
       "2      31   159,778.36  13,955.67       5,154.14  \n",
       "3       9    13,890.40     619.15       1,543.38  \n",
       "4     421 8,511,469.83 245,419.22      20,217.27  "
      ]
     },
     "execution_count": 19,
     "metadata": {},
     "output_type": "execute_result"
    }
   ],
   "source": [
    "#Выборка сезонных\n",
    "\n",
    "group_season_pivot = season_clients[season_clients['year_order'] == 'заказ меньше года назад'].groupby(['inn', 'legalName', 'bid', 'first_orderdate', 'life_time', 'email', 'vid', 'recency', 'seasonality', 'type'])['orders', 'gmv', 'revenue'].agg('sum').reset_index()\n",
    "group_season_pivot['gmv_per_order'] = group_season_pivot['gmv']/group_season_pivot['orders']\n",
    "\n",
    "group_season_pivot.head()\n"
   ]
  },
  {
   "cell_type": "code",
   "execution_count": 20,
   "id": "8043acaf-5606-43fa-bebc-9e598c489e80",
   "metadata": {},
   "outputs": [
    {
     "data": {
      "image/png": "[encoded data removed]",
      "text/plain": [
       "<Figure size 640x480 with 1 Axes>"
      ]
     },
     "metadata": {},
     "output_type": "display_data"
    }
   ],
   "source": [
    "# Вычисляем квартили данных\n",
    "group_season_q1_g = np.percentile(group_season_pivot['gmv_per_order'], 50)\n",
    "group_season_q2_g = np.percentile(group_season_pivot['gmv_per_order'], 80)  \n",
    "\n",
    "# Строим гистограмму\n",
    "plt.hist(group_season_pivot['gmv_per_order'][group_season_pivot['gmv_per_order'] < 200000], bins=30, color='skyblue', edgecolor='black')\n",
    "\n",
    "# Добавляем отметки для квартилей\n",
    "plt.axvline(group_season_q1_g, color='red', linestyle='--', label='Q1')\n",
    "plt.axvline(group_season_q2_g, color='green', linestyle='--', label='Q2')\n",
    "\n",
    "plt.legend()\n",
    "plt.title('Гистограмма данных с отметками для квартилей')\n",
    "plt.xlabel('Значение')\n",
    "plt.ylabel('Частота')\n",
    "\n",
    "plt.show()"
   ]
  },
  {
   "cell_type": "code",
   "execution_count": 21,
   "id": "bc967847-20d2-4667-8770-fac261eb363a",
   "metadata": {},
   "outputs": [
    {
     "data": {
      "image/png": "[encoded data removed]",
      "text/plain": [
       "<Figure size 640x480 with 1 Axes>"
      ]
     },
     "metadata": {},
     "output_type": "display_data"
    }
   ],
   "source": [
    "# Вычисляем квартили данных\n",
    "group_season_q1_o = np.percentile(group_season_pivot['orders'], 50)\n",
    "group_season_q2_o = np.percentile(group_season_pivot['orders'], 80)  \n",
    "\n",
    "# Строим гистограмму\n",
    "plt.hist(group_season_pivot['orders'][group_season_pivot['orders'] < 100], bins=30, color='skyblue', edgecolor='black')\n",
    "\n",
    "# Добавляем отметки для квартилей\n",
    "plt.axvline(group_season_q1_o, color='red', linestyle='--', label='Q1')\n",
    "plt.axvline(group_season_q2_o, color='green', linestyle='--', label='Q2')\n",
    "\n",
    "plt.legend()\n",
    "plt.title('Гистограмма данных с отметками для квартилей')\n",
    "plt.xlabel('Значение')\n",
    "plt.ylabel('Частота')\n",
    "\n",
    "plt.show()"
   ]
  },
  {
   "cell_type": "code",
   "execution_count": 22,
   "id": "168d0c84-adb1-4a7a-9f84-2bd0c186e431",
   "metadata": {},
   "outputs": [
    {
     "data": {
      "image/png": "[encoded data removed]",
      "text/plain": [
       "<Figure size 640x480 with 1 Axes>"
      ]
     },
     "metadata": {},
     "output_type": "display_data"
    }
   ],
   "source": [
    "# Вычисляем квартили данных\n",
    "group_season_q1_r = np.percentile(group_season_pivot['recency'], 20)  \n",
    "group_season_q2_r = np.percentile(group_season_pivot['recency'], 50)\n",
    "\n",
    "# Строим гистограмму\n",
    "plt.hist(group_season_pivot['recency'][group_season_pivot['recency'] < 60], bins=30, color='skyblue', edgecolor='black')\n",
    "\n",
    "# Добавляем отметки для квартилей\n",
    "plt.axvline(group_season_q1_r, color='red', linestyle='--', label='Q1')\n",
    "plt.axvline(group_season_q2_r, color='green', linestyle='--', label='Q2')\n",
    "\n",
    "plt.legend()\n",
    "plt.title('Гистограмма данных с отметками для квартилей')\n",
    "plt.xlabel('Значение')\n",
    "plt.ylabel('Частота')\n",
    "\n",
    "plt.show()"
   ]
  },
  {
   "cell_type": "code",
   "execution_count": 23,
   "id": "a60f3c42-77c9-4c11-ac54-539f609e3238",
   "metadata": {},
   "outputs": [],
   "source": [
    "def recency_category(row):\n",
    "    if row['recency'] <= group_season_q1_r:\n",
    "        return 1\n",
    "    if row['recency'] > group_season_q2_r and row['recency'] <= group_season_q1_r:\n",
    "        return 2\n",
    "    return 3\n",
    "\n",
    "group_season_pivot['recency_group'] = group_season_pivot.apply(recency_category, axis=1)"
   ]
  },
  {
   "cell_type": "code",
   "execution_count": 24,
   "id": "11efb1ce-1991-4eb4-91a3-bcfcfd3133cf",
   "metadata": {},
   "outputs": [],
   "source": [
    "def orders_category(row):\n",
    "    if row['orders'] <= group_season_q1_o:\n",
    "        return 3\n",
    "    if row['orders'] <= group_season_q2_o and row['orders'] > group_season_q1_o:\n",
    "        return 2\n",
    "    return 1\n",
    "\n",
    "group_season_pivot['orders_group'] = group_season_pivot.apply(orders_category, axis=1)"
   ]
  },
  {
   "cell_type": "code",
   "execution_count": 25,
   "id": "8a179bba-3085-4747-a965-9cf3f6111892",
   "metadata": {},
   "outputs": [],
   "source": [
    "def gmv_category(row):\n",
    "    if row['gmv_per_order'] > group_season_q2_g:\n",
    "        return 1\n",
    "    if row['gmv_per_order'] <= group_season_q2_g and row['gmv_per_order'] > group_no_season_q1_g:\n",
    "        return 2\n",
    "    return 3\n",
    "\n",
    "group_season_pivot['gmv_group'] = group_season_pivot.apply(gmv_category, axis=1)"
   ]
  },
  {
   "cell_type": "code",
   "execution_count": 26,
   "id": "c430d30d-414a-4659-81e0-7502d7860e0c",
   "metadata": {},
   "outputs": [],
   "source": [
    "#Группа признаков \n",
    "\n",
    "group_season_pivot['RFM_group'] = group_season_pivot['recency_group'].astype(str) + group_season_pivot['orders_group'].astype(str) + group_season_pivot['gmv_group'].astype(str)"
   ]
  },
  {
   "cell_type": "code",
   "execution_count": 27,
   "id": "3c80006f-31aa-4a09-8109-7d0c24a17bfb",
   "metadata": {},
   "outputs": [
    {
     "name": "stdout",
     "output_type": "stream",
     "text": [
      "6.0 32.5\n"
     ]
    }
   ],
   "source": [
    "#Границы для recency\n",
    "\n",
    "print(group_season_q1_r, group_season_q2_r)"
   ]
  },
  {
   "cell_type": "code",
   "execution_count": 28,
   "id": "0bf33095-c6a4-4e98-b1b5-d91712f05026",
   "metadata": {},
   "outputs": [
    {
     "name": "stdout",
     "output_type": "stream",
     "text": [
      "13106.055416666666 26372.348\n"
     ]
    }
   ],
   "source": [
    "#Границы для gmv_order\n",
    "\n",
    "print(group_season_q1_g, group_season_q2_g)"
   ]
  },
  {
   "cell_type": "code",
   "execution_count": 29,
   "id": "4fb1c045-d476-42a7-a61a-af7fa3e5a565",
   "metadata": {},
   "outputs": [
    {
     "name": "stdout",
     "output_type": "stream",
     "text": [
      "18.0 69.80000000000007\n"
     ]
    }
   ],
   "source": [
    "#Границы для orders\n",
    "\n",
    "print(group_season_q1_o, group_season_q2_o)"
   ]
  },
  {
   "cell_type": "code",
   "execution_count": 30,
   "id": "0ef3381d-3993-4555-94d9-5782fde971eb",
   "metadata": {},
   "outputs": [
    {
     "data": {
      "text/html": [
       "<div>\n",
       "<style scoped>\n",
       "    .dataframe tbody tr th:only-of-type {\n",
       "        vertical-align: middle;\n",
       "    }\n",
       "\n",
       "    .dataframe tbody tr th {\n",
       "        vertical-align: top;\n",
       "    }\n",
       "\n",
       "    .dataframe thead th {\n",
       "        text-align: right;\n",
       "    }\n",
       "</style>\n",
       "<table border=\"1\" class=\"dataframe\">\n",
       "  <thead>\n",
       "    <tr style=\"text-align: right;\">\n",
       "      <th></th>\n",
       "      <th>RFM_group</th>\n",
       "      <th>inn</th>\n",
       "      <th>share</th>\n",
       "    </tr>\n",
       "  </thead>\n",
       "  <tbody>\n",
       "    <tr>\n",
       "      <th>17</th>\n",
       "      <td>333</td>\n",
       "      <td>78</td>\n",
       "      <td>0.29</td>\n",
       "    </tr>\n",
       "    <tr>\n",
       "      <th>14</th>\n",
       "      <td>323</td>\n",
       "      <td>30</td>\n",
       "      <td>0.11</td>\n",
       "    </tr>\n",
       "    <tr>\n",
       "      <th>16</th>\n",
       "      <td>332</td>\n",
       "      <td>28</td>\n",
       "      <td>0.10</td>\n",
       "    </tr>\n",
       "    <tr>\n",
       "      <th>15</th>\n",
       "      <td>331</td>\n",
       "      <td>24</td>\n",
       "      <td>0.09</td>\n",
       "    </tr>\n",
       "    <tr>\n",
       "      <th>2</th>\n",
       "      <td>113</td>\n",
       "      <td>20</td>\n",
       "      <td>0.07</td>\n",
       "    </tr>\n",
       "    <tr>\n",
       "      <th>13</th>\n",
       "      <td>322</td>\n",
       "      <td>18</td>\n",
       "      <td>0.07</td>\n",
       "    </tr>\n",
       "    <tr>\n",
       "      <th>12</th>\n",
       "      <td>321</td>\n",
       "      <td>12</td>\n",
       "      <td>0.04</td>\n",
       "    </tr>\n",
       "    <tr>\n",
       "      <th>11</th>\n",
       "      <td>313</td>\n",
       "      <td>9</td>\n",
       "      <td>0.03</td>\n",
       "    </tr>\n",
       "    <tr>\n",
       "      <th>5</th>\n",
       "      <td>123</td>\n",
       "      <td>9</td>\n",
       "      <td>0.03</td>\n",
       "    </tr>\n",
       "    <tr>\n",
       "      <th>1</th>\n",
       "      <td>112</td>\n",
       "      <td>9</td>\n",
       "      <td>0.03</td>\n",
       "    </tr>\n",
       "    <tr>\n",
       "      <th>9</th>\n",
       "      <td>311</td>\n",
       "      <td>7</td>\n",
       "      <td>0.03</td>\n",
       "    </tr>\n",
       "    <tr>\n",
       "      <th>8</th>\n",
       "      <td>133</td>\n",
       "      <td>7</td>\n",
       "      <td>0.03</td>\n",
       "    </tr>\n",
       "    <tr>\n",
       "      <th>10</th>\n",
       "      <td>312</td>\n",
       "      <td>5</td>\n",
       "      <td>0.02</td>\n",
       "    </tr>\n",
       "    <tr>\n",
       "      <th>3</th>\n",
       "      <td>121</td>\n",
       "      <td>5</td>\n",
       "      <td>0.02</td>\n",
       "    </tr>\n",
       "    <tr>\n",
       "      <th>0</th>\n",
       "      <td>111</td>\n",
       "      <td>4</td>\n",
       "      <td>0.01</td>\n",
       "    </tr>\n",
       "    <tr>\n",
       "      <th>6</th>\n",
       "      <td>131</td>\n",
       "      <td>2</td>\n",
       "      <td>0.01</td>\n",
       "    </tr>\n",
       "    <tr>\n",
       "      <th>4</th>\n",
       "      <td>122</td>\n",
       "      <td>2</td>\n",
       "      <td>0.01</td>\n",
       "    </tr>\n",
       "    <tr>\n",
       "      <th>7</th>\n",
       "      <td>132</td>\n",
       "      <td>1</td>\n",
       "      <td>0.00</td>\n",
       "    </tr>\n",
       "  </tbody>\n",
       "</table>\n",
       "</div>"
      ],
      "text/plain": [
       "   RFM_group  inn  share\n",
       "17       333   78   0.29\n",
       "14       323   30   0.11\n",
       "16       332   28   0.10\n",
       "15       331   24   0.09\n",
       "2        113   20   0.07\n",
       "13       322   18   0.07\n",
       "12       321   12   0.04\n",
       "11       313    9   0.03\n",
       "5        123    9   0.03\n",
       "1        112    9   0.03\n",
       "9        311    7   0.03\n",
       "8        133    7   0.03\n",
       "10       312    5   0.02\n",
       "3        121    5   0.02\n",
       "0        111    4   0.01\n",
       "6        131    2   0.01\n",
       "4        122    2   0.01\n",
       "7        132    1   0.00"
      ]
     },
     "execution_count": 30,
     "metadata": {},
     "output_type": "execute_result"
    }
   ],
   "source": [
    "#Распределение категорий \n",
    "\n",
    "group_categories_pivot2 = group_season_pivot.groupby('RFM_group')['inn'].agg('nunique').reset_index()\n",
    "group_categories_pivot2['share'] = group_categories_pivot2['inn']/group_season_pivot['inn'].nunique()\n",
    "group_categories_pivot2.sort_values(by='inn', ascending=False)"
   ]
  },
  {
   "cell_type": "markdown",
   "id": "adce62f3-310d-4ae1-9d20-b5c2ca90ce14",
   "metadata": {},
   "source": [
    "## 4. RFM новой группы "
   ]
  },
  {
   "cell_type": "code",
   "execution_count": 31,
   "id": "d2f8d0cd-67b0-49a1-a20f-98fb9b01b1f4",
   "metadata": {},
   "outputs": [
    {
     "name": "stderr",
     "output_type": "stream",
     "text": [
      "/tmp/ipykernel_223688/2906010559.py:3: FutureWarning: Indexing with multiple keys (implicitly converted to a tuple of keys) will be deprecated, use a list instead.\n",
      "  new_clients_pivot = new_clients[new_clients['year_order'] == 'заказ меньше года назад'].groupby(['inn', 'legalName', 'bid', 'first_orderdate', 'life_time', 'email', 'vid', 'recency', 'seasonality', 'type'])['orders', 'gmv', 'revenue'].agg('sum').reset_index()\n",
      "/tmp/ipykernel_223688/2906010559.py:6: UserWarning: scipy.stats.shapiro: For N > 5000, computed p-value may not be accurate. Current N is 5578.\n",
      "  stat, p = shapiro(new_clients['recency'])\n"
     ]
    },
    {
     "data": {
      "image/png": "[encoded data removed]",
      "text/plain": [
       "<Figure size 640x480 with 1 Axes>"
      ]
     },
     "metadata": {},
     "output_type": "display_data"
    }
   ],
   "source": [
    "#Распределение признаков\n",
    "\n",
    "new_clients_pivot = new_clients[new_clients['year_order'] == 'заказ меньше года назад'].groupby(['inn', 'legalName', 'bid', 'first_orderdate', 'life_time', 'email', 'vid', 'recency', 'seasonality', 'type'])['orders', 'gmv', 'revenue'].agg('sum').reset_index()\n",
    "new_clients_pivot['gmv_per_order'] = new_clients_pivot['gmv']/new_clients_pivot['orders']\n",
    "\n",
    "stat, p = shapiro(new_clients['recency'])\n",
    "\n",
    "# Выводим результаты теста\n",
    "#print('Статистика теста:', stat)\n",
    "#print('p-значение:', p)\n",
    "\n",
    "# Вычисляем квартили данных\n",
    "new_clients_q1_g = np.percentile(new_clients_pivot['gmv_per_order'], 50)\n",
    "new_clients_q2_g = np.percentile(new_clients_pivot['gmv_per_order'], 80)  \n",
    "\n",
    "# Строим гистограмму\n",
    "plt.hist(new_clients_pivot['gmv_per_order'][new_clients_pivot['gmv_per_order'] < 300000], bins=30, color='skyblue', edgecolor='black')\n",
    "\n",
    "# Добавляем отметки для квартилей\n",
    "plt.axvline(new_clients_q1_g, color='red', linestyle='--', label='Q1')\n",
    "plt.axvline(new_clients_q2_g, color='green', linestyle='--', label='Q2')\n",
    "\n",
    "plt.legend()\n",
    "plt.title('Гистограмма данных с отметками для квартилей')\n",
    "plt.xlabel('Значение')\n",
    "plt.ylabel('Частота')\n",
    "\n",
    "plt.show()"
   ]
  },
  {
   "cell_type": "code",
   "execution_count": 32,
   "id": "9ba79ba9-dd0b-463a-bb08-6047d9fed6fe",
   "metadata": {},
   "outputs": [
    {
     "data": {
      "image/png": "[encoded data removed]",
      "text/plain": [
       "<Figure size 640x480 with 1 Axes>"
      ]
     },
     "metadata": {},
     "output_type": "display_data"
    }
   ],
   "source": [
    "# Вычисляем квартили данных\n",
    "new_clients_q1_o = np.percentile(new_clients_pivot['orders'], 50)\n",
    "new_clients_q2_o = np.percentile(new_clients_pivot['orders'], 80)  \n",
    "\n",
    "# Строим гистограмму\n",
    "plt.hist(new_clients_pivot['orders'][new_clients_pivot['orders'] < 50], bins=30, color='skyblue', edgecolor='black')\n",
    "\n",
    "# Добавляем отметки для квартилей\n",
    "plt.axvline(new_clients_q1_o, color='red', linestyle='--', label='Q1')\n",
    "plt.axvline(new_clients_q2_o, color='green', linestyle='--', label='Q2')\n",
    "\n",
    "plt.legend()\n",
    "plt.title('Гистограмма данных с отметками для квартилей')\n",
    "plt.xlabel('Значение')\n",
    "plt.ylabel('Частота')\n",
    "\n",
    "plt.show()"
   ]
  },
  {
   "cell_type": "code",
   "execution_count": 33,
   "id": "fab755e1-635b-4ca6-984f-b4e409d964c3",
   "metadata": {},
   "outputs": [
    {
     "data": {
      "image/png": "[encoded data removed]",
      "text/plain": [
       "<Figure size 640x480 with 1 Axes>"
      ]
     },
     "metadata": {},
     "output_type": "display_data"
    }
   ],
   "source": [
    "# Вычисляем квартили данных\n",
    "new_clients_q1_r = np.percentile(new_clients_pivot['recency'], 20)  \n",
    "new_clients_q2_r = np.percentile(new_clients_pivot['recency'], 50)\n",
    "\n",
    "# Строим гистограмму\n",
    "plt.hist(new_clients_pivot['recency'][new_clients_pivot['recency'] < 60], bins=30, color='skyblue', edgecolor='black')\n",
    "\n",
    "# Добавляем отметки для квартилей\n",
    "plt.axvline(new_clients_q1_r, color='red', linestyle='--', label='Q1')\n",
    "plt.axvline(new_clients_q2_r, color='green', linestyle='--', label='Q2')\n",
    "\n",
    "plt.legend()\n",
    "plt.title('Гистограмма данных с отметками для квартилей')\n",
    "plt.xlabel('Значение')\n",
    "plt.ylabel('Частота')\n",
    "\n",
    "plt.show()"
   ]
  },
  {
   "cell_type": "code",
   "execution_count": 34,
   "id": "8b3d570f-bae7-456d-b0c3-72cd046b63eb",
   "metadata": {},
   "outputs": [],
   "source": [
    "def recency_category(row):\n",
    "    if row['recency'] <= new_clients_q1_r:\n",
    "        return 1\n",
    "    if row['recency'] > new_clients_q1_r and row['recency'] <= new_clients_q2_r:\n",
    "        return 2\n",
    "    return 3\n",
    "\n",
    "new_clients_pivot['recency_group'] = new_clients_pivot.apply(recency_category, axis=1)"
   ]
  },
  {
   "cell_type": "code",
   "execution_count": 35,
   "id": "dfad5ebe-ff1e-449e-accb-e9b994dfbf93",
   "metadata": {},
   "outputs": [],
   "source": [
    "def orders_category(row):\n",
    "    if row['orders'] <= new_clients_q1_o:\n",
    "        return 3\n",
    "    if row['orders'] <= new_clients_q2_o and row['orders'] > new_clients_q1_o:\n",
    "        return 2\n",
    "    return 1\n",
    "\n",
    "new_clients_pivot['orders_group'] = new_clients_pivot.apply(orders_category, axis=1)"
   ]
  },
  {
   "cell_type": "code",
   "execution_count": 36,
   "id": "2a4222ba-b613-456d-a924-775e8d2ca88a",
   "metadata": {},
   "outputs": [],
   "source": [
    "def gmv_category(row):\n",
    "    if row['gmv_per_order'] > group_no_season_q2_g:\n",
    "        return 1\n",
    "    if row['gmv_per_order'] <= group_no_season_q2_g and row['gmv_per_order'] > group_no_season_q1_g:\n",
    "        return 2\n",
    "    return 3\n",
    "\n",
    "new_clients_pivot['gmv_group'] = new_clients_pivot.apply(gmv_category, axis=1)"
   ]
  },
  {
   "cell_type": "code",
   "execution_count": 37,
   "id": "226d0204-9fe5-4d6f-9497-e9b8bfb43e4a",
   "metadata": {},
   "outputs": [],
   "source": [
    "#Группа признаков \n",
    "\n",
    "new_clients_pivot['RFM_group'] = new_clients_pivot['recency_group'].astype(str) + new_clients_pivot['orders_group'].astype(str) + new_clients_pivot['gmv_group'].astype(str)"
   ]
  },
  {
   "cell_type": "code",
   "execution_count": 38,
   "id": "059244d5-d527-4044-be4d-7a4870ef008b",
   "metadata": {},
   "outputs": [
    {
     "name": "stdout",
     "output_type": "stream",
     "text": [
      "7.0 49.0\n"
     ]
    }
   ],
   "source": [
    "#Границы для recency\n",
    "\n",
    "print(new_clients_q1_r, new_clients_q2_r)"
   ]
  },
  {
   "cell_type": "code",
   "execution_count": 39,
   "id": "c33aa7aa-c4b0-4ea7-9339-322b3e1ce8b9",
   "metadata": {},
   "outputs": [
    {
     "name": "stdout",
     "output_type": "stream",
     "text": [
      "5.0 22.0\n"
     ]
    }
   ],
   "source": [
    "#Границы для orders\n",
    "\n",
    "print(new_clients_q1_o, new_clients_q2_o)"
   ]
  },
  {
   "cell_type": "code",
   "execution_count": 40,
   "id": "d3ea5f6d-1b05-4c43-8caa-30f0086d2510",
   "metadata": {},
   "outputs": [
    {
     "name": "stdout",
     "output_type": "stream",
     "text": [
      "17262.50412280702 44221.887400000014\n"
     ]
    }
   ],
   "source": [
    "#Границы для gmv\n",
    "\n",
    "print(new_clients_q1_g, new_clients_q2_g)"
   ]
  },
  {
   "cell_type": "code",
   "execution_count": 41,
   "id": "448f50da-2f0a-445a-8aa7-6ba7597c2bef",
   "metadata": {},
   "outputs": [
    {
     "data": {
      "text/html": [
       "<div>\n",
       "<style scoped>\n",
       "    .dataframe tbody tr th:only-of-type {\n",
       "        vertical-align: middle;\n",
       "    }\n",
       "\n",
       "    .dataframe tbody tr th {\n",
       "        vertical-align: top;\n",
       "    }\n",
       "\n",
       "    .dataframe thead th {\n",
       "        text-align: right;\n",
       "    }\n",
       "</style>\n",
       "<table border=\"1\" class=\"dataframe\">\n",
       "  <thead>\n",
       "    <tr style=\"text-align: right;\">\n",
       "      <th></th>\n",
       "      <th>RFM_group</th>\n",
       "      <th>inn</th>\n",
       "      <th>share</th>\n",
       "    </tr>\n",
       "  </thead>\n",
       "  <tbody>\n",
       "    <tr>\n",
       "      <th>26</th>\n",
       "      <td>333</td>\n",
       "      <td>440</td>\n",
       "      <td>0.16</td>\n",
       "    </tr>\n",
       "    <tr>\n",
       "      <th>24</th>\n",
       "      <td>331</td>\n",
       "      <td>332</td>\n",
       "      <td>0.12</td>\n",
       "    </tr>\n",
       "    <tr>\n",
       "      <th>25</th>\n",
       "      <td>332</td>\n",
       "      <td>190</td>\n",
       "      <td>0.07</td>\n",
       "    </tr>\n",
       "    <tr>\n",
       "      <th>2</th>\n",
       "      <td>113</td>\n",
       "      <td>150</td>\n",
       "      <td>0.05</td>\n",
       "    </tr>\n",
       "    <tr>\n",
       "      <th>23</th>\n",
       "      <td>323</td>\n",
       "      <td>146</td>\n",
       "      <td>0.05</td>\n",
       "    </tr>\n",
       "    <tr>\n",
       "      <th>17</th>\n",
       "      <td>233</td>\n",
       "      <td>136</td>\n",
       "      <td>0.05</td>\n",
       "    </tr>\n",
       "    <tr>\n",
       "      <th>14</th>\n",
       "      <td>223</td>\n",
       "      <td>116</td>\n",
       "      <td>0.04</td>\n",
       "    </tr>\n",
       "    <tr>\n",
       "      <th>15</th>\n",
       "      <td>231</td>\n",
       "      <td>113</td>\n",
       "      <td>0.04</td>\n",
       "    </tr>\n",
       "    <tr>\n",
       "      <th>13</th>\n",
       "      <td>222</td>\n",
       "      <td>104</td>\n",
       "      <td>0.04</td>\n",
       "    </tr>\n",
       "    <tr>\n",
       "      <th>12</th>\n",
       "      <td>221</td>\n",
       "      <td>98</td>\n",
       "      <td>0.04</td>\n",
       "    </tr>\n",
       "    <tr>\n",
       "      <th>21</th>\n",
       "      <td>321</td>\n",
       "      <td>94</td>\n",
       "      <td>0.03</td>\n",
       "    </tr>\n",
       "    <tr>\n",
       "      <th>1</th>\n",
       "      <td>112</td>\n",
       "      <td>92</td>\n",
       "      <td>0.03</td>\n",
       "    </tr>\n",
       "    <tr>\n",
       "      <th>11</th>\n",
       "      <td>213</td>\n",
       "      <td>87</td>\n",
       "      <td>0.03</td>\n",
       "    </tr>\n",
       "    <tr>\n",
       "      <th>22</th>\n",
       "      <td>322</td>\n",
       "      <td>81</td>\n",
       "      <td>0.03</td>\n",
       "    </tr>\n",
       "    <tr>\n",
       "      <th>16</th>\n",
       "      <td>232</td>\n",
       "      <td>80</td>\n",
       "      <td>0.03</td>\n",
       "    </tr>\n",
       "    <tr>\n",
       "      <th>5</th>\n",
       "      <td>123</td>\n",
       "      <td>80</td>\n",
       "      <td>0.03</td>\n",
       "    </tr>\n",
       "    <tr>\n",
       "      <th>4</th>\n",
       "      <td>122</td>\n",
       "      <td>60</td>\n",
       "      <td>0.02</td>\n",
       "    </tr>\n",
       "    <tr>\n",
       "      <th>3</th>\n",
       "      <td>121</td>\n",
       "      <td>54</td>\n",
       "      <td>0.02</td>\n",
       "    </tr>\n",
       "    <tr>\n",
       "      <th>10</th>\n",
       "      <td>212</td>\n",
       "      <td>54</td>\n",
       "      <td>0.02</td>\n",
       "    </tr>\n",
       "    <tr>\n",
       "      <th>0</th>\n",
       "      <td>111</td>\n",
       "      <td>44</td>\n",
       "      <td>0.02</td>\n",
       "    </tr>\n",
       "    <tr>\n",
       "      <th>20</th>\n",
       "      <td>313</td>\n",
       "      <td>44</td>\n",
       "      <td>0.02</td>\n",
       "    </tr>\n",
       "    <tr>\n",
       "      <th>9</th>\n",
       "      <td>211</td>\n",
       "      <td>39</td>\n",
       "      <td>0.01</td>\n",
       "    </tr>\n",
       "    <tr>\n",
       "      <th>8</th>\n",
       "      <td>133</td>\n",
       "      <td>36</td>\n",
       "      <td>0.01</td>\n",
       "    </tr>\n",
       "    <tr>\n",
       "      <th>7</th>\n",
       "      <td>132</td>\n",
       "      <td>33</td>\n",
       "      <td>0.01</td>\n",
       "    </tr>\n",
       "    <tr>\n",
       "      <th>6</th>\n",
       "      <td>131</td>\n",
       "      <td>26</td>\n",
       "      <td>0.01</td>\n",
       "    </tr>\n",
       "    <tr>\n",
       "      <th>19</th>\n",
       "      <td>312</td>\n",
       "      <td>25</td>\n",
       "      <td>0.01</td>\n",
       "    </tr>\n",
       "    <tr>\n",
       "      <th>18</th>\n",
       "      <td>311</td>\n",
       "      <td>10</td>\n",
       "      <td>0.00</td>\n",
       "    </tr>\n",
       "  </tbody>\n",
       "</table>\n",
       "</div>"
      ],
      "text/plain": [
       "   RFM_group  inn  share\n",
       "26       333  440   0.16\n",
       "24       331  332   0.12\n",
       "25       332  190   0.07\n",
       "2        113  150   0.05\n",
       "23       323  146   0.05\n",
       "17       233  136   0.05\n",
       "14       223  116   0.04\n",
       "15       231  113   0.04\n",
       "13       222  104   0.04\n",
       "12       221   98   0.04\n",
       "21       321   94   0.03\n",
       "1        112   92   0.03\n",
       "11       213   87   0.03\n",
       "22       322   81   0.03\n",
       "16       232   80   0.03\n",
       "5        123   80   0.03\n",
       "4        122   60   0.02\n",
       "3        121   54   0.02\n",
       "10       212   54   0.02\n",
       "0        111   44   0.02\n",
       "20       313   44   0.02\n",
       "9        211   39   0.01\n",
       "8        133   36   0.01\n",
       "7        132   33   0.01\n",
       "6        131   26   0.01\n",
       "19       312   25   0.01\n",
       "18       311   10   0.00"
      ]
     },
     "execution_count": 41,
     "metadata": {},
     "output_type": "execute_result"
    }
   ],
   "source": [
    "#Распределение категорий \n",
    "\n",
    "group_categories_pivot = new_clients_pivot.groupby('RFM_group')['inn'].agg('nunique').reset_index()\n",
    "group_categories_pivot['share'] = group_categories_pivot['inn']/new_clients_pivot['inn'].nunique()\n",
    "group_categories_pivot.sort_values(by='inn', ascending=False)"
   ]
  },
  {
   "cell_type": "code",
   "execution_count": 42,
   "id": "96b8f560-884f-4117-9ea6-1ed1a6da3d4b",
   "metadata": {},
   "outputs": [],
   "source": [
    "new_clients_pivot['quartile_o1'] = new_clients_q1_o  \n",
    "new_clients_pivot['quartile_o2'] = new_clients_q2_o   \n",
    "new_clients_pivot['quartile_r1'] = new_clients_q1_r  \n",
    "new_clients_pivot['quartile_r2'] = new_clients_q2_r  \n",
    "new_clients_pivot['quartile_g1'] = new_clients_q1_g\n",
    "new_clients_pivot['quartile_g2'] = new_clients_q2_g \n",
    "\n",
    "group_no_season_pivot['quartile_o1'] = group_no_season_q1_o  \n",
    "group_no_season_pivot['quartile_o2'] = group_no_season_q2_o   \n",
    "group_no_season_pivot['quartile_r1'] = group_no_season_q1_r  \n",
    "group_no_season_pivot['quartile_r2'] = group_no_season_q2_r  \n",
    "group_no_season_pivot['quartile_g1'] = group_no_season_q1_g\n",
    "group_no_season_pivot['quartile_g2'] = group_no_season_q2_g \n",
    "\n",
    "group_season_pivot['quartile_o1'] = group_season_q1_o  \n",
    "group_season_pivot['quartile_o2'] = group_season_q2_o   \n",
    "group_season_pivot['quartile_r1'] = group_season_q1_r  \n",
    "group_season_pivot['quartile_r2'] = group_season_q2_r  \n",
    "group_season_pivot['quartile_g1'] = group_season_q1_g\n",
    "group_season_pivot['quartile_g2'] = group_season_q2_g "
   ]
  },
  {
   "cell_type": "code",
   "execution_count": 43,
   "id": "ff82cc84-4b71-4ce0-a9ab-57a610ada5a0",
   "metadata": {
    "editable": true,
    "slideshow": {
     "slide_type": ""
    },
    "tags": []
   },
   "outputs": [],
   "source": [
    "data_all1 = pd.concat([group_no_season_pivot, new_clients_pivot], axis=0)\n",
    "data_final = pd.concat([data_all1, group_season_pivot], axis=0)\n"
   ]
  },
  {
   "cell_type": "code",
   "execution_count": 44,
   "id": "4cc903c8-1558-4b0c-9a80-59164b228027",
   "metadata": {},
   "outputs": [],
   "source": [
    "def recency_desc(row):\n",
    "    if row['recency'] <= row['quartile_r1']:\n",
    "        return 'недавний'\n",
    "    if row['recency'] > row['quartile_r1'] and row['recency'] <= row['quartile_r2']:\n",
    "        return 'среднедавний'\n",
    "    return 'давний'\n",
    "\n",
    "data_final['recency_desc'] = data_final.apply(recency_desc, axis=1)\n",
    "\n",
    "\n",
    "def orders_desc(row):\n",
    "    if row['orders'] <= row['quartile_o1']:\n",
    "        return 'наименее частотный'\n",
    "    if row['orders'] > row['quartile_o1'] and row['orders'] <= row['quartile_o2']:\n",
    "        return 'частотный'\n",
    "    return 'наиболее частотный'\n",
    "\n",
    "data_final['orders_desc'] = data_final.apply(orders_desc, axis=1)\n",
    "\n",
    "\n",
    "def gmv_desc(row):\n",
    "    if row['gmv_per_order'] <= row['quartile_g1']:\n",
    "        return 'наименее денежный'\n",
    "    if row['gmv_per_order'] > row['quartile_g1'] and row['gmv_per_order'] <= row['quartile_g2']:\n",
    "        return 'денежный'\n",
    "    return 'наиболее денежный'\n",
    "\n",
    "data_final['gmv_desc'] = data_final.apply(gmv_desc, axis=1)"
   ]
  },
  {
   "cell_type": "code",
   "execution_count": 45,
   "id": "62864e28-34d9-49ce-9d97-7163567a99d1",
   "metadata": {},
   "outputs": [],
   "source": [
    "data_final['first_orderdate'] = pd.to_datetime(data_final['first_orderdate'])\n",
    "data_final = data_final[['first_orderdate', 'inn', 'legalName', 'email', 'RFM_group', 'recency_desc', 'orders_desc', 'gmv_desc', 'seasonality', 'gmv', 'revenue', 'gmv_per_order', 'orders', 'recency']]\n",
    "data_final.to_csv('RFM-анализ.csv', index=False)"
   ]
  },
  {
   "cell_type": "code",
   "execution_count": 46,
   "id": "02607bb5-02ea-4ebb-abc6-393dd7dc51c8",
   "metadata": {},
   "outputs": [],
   "source": [
    "query0 = f\"\"\"copy tmp.ak_b2b_rfm_analysis (first_orderdate, inn, legalName, email, RFM_group, recency_desc, orders_desc, gmv_desc, seasonality, gmv, revenue, gmv_per_order, orders, recency) from local '/home/jupyter-anastasiya.kobtsev-3a1bd/RFM-анализ.csv' delimiter ',' skip 1;\"\"\""
   ]
  },
  {
   "cell_type": "code",
   "execution_count": 47,
   "id": "e7a13318-a0ee-4cfa-943a-4e94a84e76e2",
   "metadata": {},
   "outputs": [
    {
     "name": "stderr",
     "output_type": "stream",
     "text": [
      "/tmp/ipykernel_223688/3892824991.py:1: UserWarning: pandas only supports SQLAlchemy connectable (engine/connection) or database string URI or sqlite3 DBAPI2 connection. Other DBAPI2 objects are not tested. Please consider using SQLAlchemy.\n",
      "  pd.read_sql(query0, connection)\n"
     ]
    },
    {
     "data": {
      "text/html": [
       "<div>\n",
       "<style scoped>\n",
       "    .dataframe tbody tr th:only-of-type {\n",
       "        vertical-align: middle;\n",
       "    }\n",
       "\n",
       "    .dataframe tbody tr th {\n",
       "        vertical-align: top;\n",
       "    }\n",
       "\n",
       "    .dataframe thead th {\n",
       "        text-align: right;\n",
       "    }\n",
       "</style>\n",
       "<table border=\"1\" class=\"dataframe\">\n",
       "  <thead>\n",
       "    <tr style=\"text-align: right;\">\n",
       "      <th></th>\n",
       "      <th>Rows Loaded</th>\n",
       "    </tr>\n",
       "  </thead>\n",
       "  <tbody>\n",
       "    <tr>\n",
       "      <th>0</th>\n",
       "      <td>5718</td>\n",
       "    </tr>\n",
       "  </tbody>\n",
       "</table>\n",
       "</div>"
      ],
      "text/plain": [
       "   Rows Loaded\n",
       "0         5718"
      ]
     },
     "execution_count": 47,
     "metadata": {},
     "output_type": "execute_result"
    }
   ],
   "source": [
    "pd.read_sql(query0, connection)"
   ]
  }
 ],
 "metadata": {
  "kernelspec": {
   "display_name": "Python 3 (ipykernel)",
   "language": "python",
   "name": "python3"
  },
  "language_info": {
   "codemirror_mode": {
    "name": "ipython",
    "version": 3
   },
   "file_extension": ".py",
   "mimetype": "text/x-python",
   "name": "python",
   "nbconvert_exporter": "python",
   "pygments_lexer": "ipython3",
   "version": "3.10.10"
  }
 },
 "nbformat": 4,
 "nbformat_minor": 5
}
